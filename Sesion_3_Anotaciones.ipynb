{
  "nbformat": 4,
  "nbformat_minor": 0,
  "metadata": {
    "colab": {
      "provenance": [],
      "toc_visible": true,
      "gpuType": "T4"
    },
    "kernelspec": {
      "name": "python3",
      "display_name": "Python 3"
    },
    "language_info": {
      "name": "python"
    },
    "accelerator": "GPU"
  },
  "cells": [
    {
      "cell_type": "markdown",
      "source": [
        "<img src=\"https://miro.medium.com/v2/resize:fit:1400/1*zomnCz8-VMgrSV8eLCx2tw.gif\" width=\"200\" alt=\"molecula\"  />\n",
        "\n",
        "$$\\Large \\textit{Cuaderno de Código | Sesión de recuperación}$$\n",
        "\n",
        "---\n",
        "$$\\large\\textbf{Sistemas Operativos}$$\n",
        "\n",
        "---\n",
        "$$\\textit{Curso: Software Libre}$$\n",
        "\n",
        "<br>\n",
        "<br>\n",
        "\n",
        "__Dr. Jesus Alvarado-Huayhuaz__\n",
        "\n",
        "---\n"
      ],
      "metadata": {
        "id": "KfJZa6Wyu-j4"
      }
    },
    {
      "cell_type": "markdown",
      "source": [
        "Bienvenido a esta sesión sobre Sistema Operativo (SO) y Software Libre. Reflexionemos sobre algunos puntos antes de empezar:\n",
        "\n",
        "1. **¿Ya he trabajado con un sistema operativo GNU/Linux?** Si la respuesta es afirmativa, estaremos familiarizados con el contenido de este cuaderno, sino te invito a que repases el siguiente material:\n",
        "\n",
        "https://github.com/inefable12/DUPD_2024/blob/main/Sesion4_Introduccion_Linux.ipynb\n",
        "\n",
        "2. **¿Por qué estamos interesados en este SO?**\n",
        "\n",
        "Si tienes claro este punto, compártelo con nosotros para conocer tu punto de vista, si todavía tienes dudas de su importancia, veremos algunos casos de aplicación para intentar destacar la necesidad de usar este SO.\n",
        "\n",
        "3. **¿En qué SO y distro se encuentra trabajando Google COLAB?**\n",
        "\n",
        "Exploremos...\n",
        "\n",
        "4. **¿Por qué estamos trabajando con Google COLAB?**\n",
        "\n",
        "Comparte tus respuestas en dontpad.com/slucsur2025/tunombre"
      ],
      "metadata": {
        "id": "RKeqdobCr8zb"
      }
    },
    {
      "cell_type": "markdown",
      "source": [
        "# A. Sobre Google COLAB"
      ],
      "metadata": {
        "id": "tD2BBp-nya7d"
      }
    },
    {
      "cell_type": "code",
      "execution_count": null,
      "metadata": {
        "id": "wZH33rPjrxwt"
      },
      "outputs": [],
      "source": [
        "#lsb_release -a"
      ]
    },
    {
      "cell_type": "markdown",
      "source": [
        "# B. Sobre el SO"
      ],
      "metadata": {
        "id": "5UlSnPkrsNVG"
      }
    },
    {
      "cell_type": "code",
      "source": [
        "#cat /etc/os-release"
      ],
      "metadata": {
        "id": "IqMi5rLfr2ki"
      },
      "execution_count": null,
      "outputs": []
    },
    {
      "cell_type": "markdown",
      "source": [
        "---\n",
        "\n",
        "Distribuciones de Linux (distros):\n",
        "\n",
        "**Debian**\n",
        "\n",
        "- Una de las distros más antiguas y estables.\n",
        "\n",
        "- Base de muchas otras distros, como Ubuntu, Linux Mint, Kali Linux.\n",
        "\n",
        "- Usa el gestor de paquetes APT (.deb).\n",
        "\n",
        "- Se enfoca en estabilidad y software libre.\n",
        "\n",
        "**Red Hat (RHEL – Red Hat Enterprise Linux)**\n",
        "\n",
        "- Distro comercial orientada a empresas y servidores.\n",
        "\n",
        "- Base de otras distros como Fedora y CentOS / Rocky Linux / AlmaLinux.\n",
        "\n",
        "- Usa el gestor de paquetes YUM/DNF (.rpm).\n",
        "\n",
        "- Se enfoca en soporte técnico profesional y certificaciones.\n",
        "\n",
        "*Debian y Red Hat son distros (familias enteras de sistemas Linux). Sobre ellas puedes elegir usar diferentes interfaces gráficas como GNOME, KDE, XFCE, etc.*\n",
        "\n",
        "---\n"
      ],
      "metadata": {
        "id": "pLvngSJO6paE"
      }
    },
    {
      "cell_type": "markdown",
      "source": [
        "## CUDA instalada"
      ],
      "metadata": {
        "id": "lZRGB4zisRTO"
      }
    },
    {
      "cell_type": "markdown",
      "source": [
        "En Google Colab puedes inspeccionar el sistema operativo, kernel y librerías de GPU (CUDA/cuDNN)"
      ],
      "metadata": {
        "id": "h_I6-U5XsF3M"
      }
    },
    {
      "cell_type": "code",
      "source": [
        "#uname -r"
      ],
      "metadata": {
        "id": "NGX2FrYDr3wB"
      },
      "execution_count": null,
      "outputs": []
    },
    {
      "cell_type": "code",
      "source": [
        "#nvcc --version"
      ],
      "metadata": {
        "id": "HDQEjO9JsISh"
      },
      "execution_count": null,
      "outputs": []
    },
    {
      "cell_type": "markdown",
      "source": [
        "Si no está instalado nvcc, puedes ver con nvidia-smi"
      ],
      "metadata": {
        "id": "E_fDMu5vsY_z"
      }
    },
    {
      "cell_type": "markdown",
      "source": [
        "## Estado de la GPU disponible"
      ],
      "metadata": {
        "id": "YMyu8knWsjQa"
      }
    },
    {
      "cell_type": "code",
      "source": [
        "!nvidia-smi #Debe activar la conexión con GPU"
      ],
      "metadata": {
        "colab": {
          "base_uri": "https://localhost:8080/"
        },
        "id": "33WONXwGscQA",
        "outputId": "17a06adc-c737-4746-c7c3-8fc614b9de14"
      },
      "execution_count": 4,
      "outputs": [
        {
          "output_type": "stream",
          "name": "stdout",
          "text": [
            "Mon Sep 15 23:34:21 2025       \n",
            "+-----------------------------------------------------------------------------------------+\n",
            "| NVIDIA-SMI 550.54.15              Driver Version: 550.54.15      CUDA Version: 12.4     |\n",
            "|-----------------------------------------+------------------------+----------------------+\n",
            "| GPU  Name                 Persistence-M | Bus-Id          Disp.A | Volatile Uncorr. ECC |\n",
            "| Fan  Temp   Perf          Pwr:Usage/Cap |           Memory-Usage | GPU-Util  Compute M. |\n",
            "|                                         |                        |               MIG M. |\n",
            "|=========================================+========================+======================|\n",
            "|   0  Tesla T4                       Off |   00000000:00:04.0 Off |                    0 |\n",
            "| N/A   44C    P8             11W /   70W |       0MiB /  15360MiB |      0%      Default |\n",
            "|                                         |                        |                  N/A |\n",
            "+-----------------------------------------+------------------------+----------------------+\n",
            "                                                                                         \n",
            "+-----------------------------------------------------------------------------------------+\n",
            "| Processes:                                                                              |\n",
            "|  GPU   GI   CI        PID   Type   Process name                              GPU Memory |\n",
            "|        ID   ID                                                               Usage      |\n",
            "|=========================================================================================|\n",
            "|  No running processes found                                                             |\n",
            "+-----------------------------------------------------------------------------------------+\n"
          ]
        }
      ]
    },
    {
      "cell_type": "code",
      "source": [
        "!lshw -short"
      ],
      "metadata": {
        "colab": {
          "base_uri": "https://localhost:8080/"
        },
        "id": "mTmvE1AxzRUu",
        "outputId": "dba60b35-1a03-487d-9e2d-f40303104424"
      },
      "execution_count": 6,
      "outputs": [
        {
          "output_type": "stream",
          "name": "stdout",
          "text": [
            "/bin/bash: line 1: lshw: command not found\n"
          ]
        }
      ]
    },
    {
      "cell_type": "markdown",
      "source": [
        "*¿Qué ocurrió en el comando anterior? ¿Qué son los permisos?*"
      ],
      "metadata": {
        "id": "wS65Oq0tzYhr"
      }
    },
    {
      "cell_type": "markdown",
      "source": [
        "# C.Sobre el hardware"
      ],
      "metadata": {
        "id": "UUG_CTPB8Ukg"
      }
    },
    {
      "cell_type": "code",
      "source": [
        "!cat /proc/cpuinfo   # Detalle del procesador"
      ],
      "metadata": {
        "id": "4cyTOpCs4fVJ"
      },
      "execution_count": null,
      "outputs": []
    },
    {
      "cell_type": "code",
      "source": [
        "!cat /proc/meminfo   # Detalle de la memoria"
      ],
      "metadata": {
        "id": "FiOC4sIJ6CTk"
      },
      "execution_count": null,
      "outputs": []
    },
    {
      "cell_type": "markdown",
      "source": [
        "En Colab normalmente no tienes acceso root, así que los más prácticos son:\n",
        "\n",
        "lscpu → CPU\n",
        "\n",
        "free -h → RAM\n",
        "\n",
        "nvidia-smi → GPU"
      ],
      "metadata": {
        "id": "gBbn5qpm6I83"
      }
    },
    {
      "cell_type": "code",
      "source": [
        "!cat /proc/meminfo"
      ],
      "metadata": {
        "id": "AablFlsAzsKU"
      },
      "execution_count": null,
      "outputs": []
    },
    {
      "cell_type": "markdown",
      "source": [
        "## Arquitectura, núcleos, etc."
      ],
      "metadata": {
        "id": "iEiTf4XIz1JN"
      }
    },
    {
      "cell_type": "code",
      "source": [
        "!lscpu"
      ],
      "metadata": {
        "id": "0qlHb5nlzSJ9"
      },
      "execution_count": null,
      "outputs": []
    },
    {
      "cell_type": "markdown",
      "source": [
        "## Memoria RAM"
      ],
      "metadata": {
        "id": "gzNpb2k7zxJ0"
      }
    },
    {
      "cell_type": "code",
      "source": [
        "!free -h"
      ],
      "metadata": {
        "id": "LGOmYBI8zgSB"
      },
      "execution_count": null,
      "outputs": []
    },
    {
      "cell_type": "markdown",
      "source": [
        "También se puede usar"
      ],
      "metadata": {
        "id": "A9jTjPWY0NAv"
      }
    },
    {
      "cell_type": "markdown",
      "source": [
        "# Actividad"
      ],
      "metadata": {
        "id": "Cuq7EFko1Nok"
      }
    },
    {
      "cell_type": "markdown",
      "source": [
        "Grupo #1: SO Libre y Privativo: Historia y Ejemplos\n",
        "\n",
        "- https://solibreyprivativo.streamlit.app/\n",
        "\n",
        "Grupo #2: En base a la currícula de mi carrera profesional ¿Por qué usar Linux en Ingeniería de Sistemas y Empresarial? ¿En qué cursos será realmente necesario conocer sobre este SO? Y al terminar mis estudios ¿En qué lo emplearé? Dar ejemplos de casos reales.\n",
        "\n",
        "- https://linuxparasistemaempresarial.streamlit.app/\n",
        "\n",
        "Grupo #3: Cronología del desarrollo de las DISTROS y diferencias entre ellas.\n",
        "\n",
        "- https://distroslinux.streamlit.app/\n",
        "\n",
        "Grupo #4: Supercomputación (HPC) y software libre.\n",
        "\n",
        "- https://hpc-sl.streamlit.app/\n"
      ],
      "metadata": {
        "id": "VUqM6lQb1KyA"
      }
    }
  ]
}